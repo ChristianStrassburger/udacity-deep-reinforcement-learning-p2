{
 "cells": [
  {
   "cell_type": "markdown",
   "metadata": {},
   "source": [
    "# Continuous Control\n",
    "\n",
    "---\n",
    "\n",
    "In this notebook, you will learn how to use the Unity ML-Agents environment for the second project of the [Deep Reinforcement Learning Nanodegree](https://www.udacity.com/course/deep-reinforcement-learning-nanodegree--nd893) program.\n",
    "\n",
    "### 1. Start the Environment\n",
    "\n",
    "We begin by importing the necessary packages.  If the code cell below returns an error, please revisit the project instructions to double-check that you have installed [Unity ML-Agents](https://github.com/Unity-Technologies/ml-agents/blob/master/docs/Installation.md) and [NumPy](http://www.numpy.org/)."
   ]
  },
  {
   "cell_type": "code",
   "execution_count": 1,
   "metadata": {},
   "outputs": [],
   "source": [
    "from unityagents import UnityEnvironment\n",
    "import numpy as np"
   ]
  },
  {
   "cell_type": "markdown",
   "metadata": {},
   "source": [
    "Next, we will start the environment!  **_Before running the code cell below_**, change the `file_name` parameter to match the location of the Unity environment that you downloaded.\n",
    "\n",
    "- **Mac**: `\"path/to/Reacher.app\"`\n",
    "- **Windows** (x86): `\"path/to/Reacher_Windows_x86/Reacher.exe\"`\n",
    "- **Windows** (x86_64): `\"path/to/Reacher_Windows_x86_64/Reacher.exe\"`\n",
    "- **Linux** (x86): `\"path/to/Reacher_Linux/Reacher.x86\"`\n",
    "- **Linux** (x86_64): `\"path/to/Reacher_Linux/Reacher.x86_64\"`\n",
    "- **Linux** (x86, headless): `\"path/to/Reacher_Linux_NoVis/Reacher.x86\"`\n",
    "- **Linux** (x86_64, headless): `\"path/to/Reacher_Linux_NoVis/Reacher.x86_64\"`\n",
    "\n",
    "For instance, if you are using a Mac, then you downloaded `Reacher.app`.  If this file is in the same folder as the notebook, then the line below should appear as follows:\n",
    "```\n",
    "env = UnityEnvironment(file_name=\"Reacher.app\")\n",
    "```"
   ]
  },
  {
   "cell_type": "code",
   "execution_count": 2,
   "metadata": {},
   "outputs": [
    {
     "name": "stderr",
     "output_type": "stream",
     "text": [
      "INFO:unityagents:\n",
      "'Academy' started successfully!\n",
      "Unity Academy name: Academy\n",
      "        Number of Brains: 1\n",
      "        Number of External Brains : 1\n",
      "        Lesson number : 0\n",
      "        Reset Parameters :\n",
      "\t\tgoal_speed -> 1.0\n",
      "\t\tgoal_size -> 5.0\n",
      "Unity brain name: ReacherBrain\n",
      "        Number of Visual Observations (per agent): 0\n",
      "        Vector Observation space type: continuous\n",
      "        Vector Observation space size (per agent): 33\n",
      "        Number of stacked Vector Observation: 1\n",
      "        Vector Action space type: continuous\n",
      "        Vector Action space size (per agent): 4\n",
      "        Vector Action descriptions: , , , \n"
     ]
    }
   ],
   "source": [
    "env = UnityEnvironment(file_name='V1/Reacher.exe')"
   ]
  },
  {
   "cell_type": "markdown",
   "metadata": {},
   "source": [
    "Environments contain **_brains_** which are responsible for deciding the actions of their associated agents. Here we check for the first brain available, and set it as the default brain we will be controlling from Python."
   ]
  },
  {
   "cell_type": "code",
   "execution_count": 3,
   "metadata": {},
   "outputs": [],
   "source": [
    "# get the default brain\n",
    "brain_name = env.brain_names[0]\n",
    "brain = env.brains[brain_name]"
   ]
  },
  {
   "cell_type": "markdown",
   "metadata": {},
   "source": [
    "### 2. Examine the State and Action Spaces\n",
    "\n",
    "In this environment, a double-jointed arm can move to target locations. A reward of `+0.1` is provided for each step that the agent's hand is in the goal location. Thus, the goal of your agent is to maintain its position at the target location for as many time steps as possible.\n",
    "\n",
    "The observation space consists of `33` variables corresponding to position, rotation, velocity, and angular velocities of the arm.  Each action is a vector with four numbers, corresponding to torque applicable to two joints.  Every entry in the action vector must be a number between `-1` and `1`.\n",
    "\n",
    "Run the code cell below to print some information about the environment."
   ]
  },
  {
   "cell_type": "code",
   "execution_count": 4,
   "metadata": {},
   "outputs": [
    {
     "name": "stdout",
     "output_type": "stream",
     "text": [
      "Number of agents: 1\n",
      "Size of each action: 4\n",
      "There are 1 agents. Each observes a state with length: 33\n",
      "The state for the first agent looks like: [ 0.00000000e+00 -4.00000000e+00  0.00000000e+00  1.00000000e+00\n",
      " -0.00000000e+00 -0.00000000e+00 -4.37113883e-08  0.00000000e+00\n",
      "  0.00000000e+00  0.00000000e+00  0.00000000e+00  0.00000000e+00\n",
      "  0.00000000e+00  0.00000000e+00 -1.00000000e+01  0.00000000e+00\n",
      "  1.00000000e+00 -0.00000000e+00 -0.00000000e+00 -4.37113883e-08\n",
      "  0.00000000e+00  0.00000000e+00  0.00000000e+00  0.00000000e+00\n",
      "  0.00000000e+00  0.00000000e+00  5.75471878e+00 -1.00000000e+00\n",
      "  5.55726671e+00  0.00000000e+00  1.00000000e+00  0.00000000e+00\n",
      " -1.68164849e-01]\n"
     ]
    }
   ],
   "source": [
    "# reset the environment\n",
    "env_info = env.reset(train_mode=True)[brain_name]\n",
    "\n",
    "# number of agents\n",
    "num_agents = len(env_info.agents)\n",
    "print('Number of agents:', num_agents)\n",
    "\n",
    "# size of each action\n",
    "action_size = brain.vector_action_space_size\n",
    "print('Size of each action:', action_size)\n",
    "\n",
    "# examine the state space \n",
    "states = env_info.vector_observations\n",
    "state_size = states.shape[1]\n",
    "print('There are {} agents. Each observes a state with length: {}'.format(states.shape[0], state_size))\n",
    "print('The state for the first agent looks like:', states[0])"
   ]
  },
  {
   "cell_type": "markdown",
   "metadata": {},
   "source": [
    "### 3. Take Random Actions in the Environment\n",
    "\n",
    "In the next code cell, you will learn how to use the Python API to control the agent and receive feedback from the environment.\n",
    "\n",
    "Once this cell is executed, you will watch the agent's performance, if it selects an action at random with each time step.  A window should pop up that allows you to observe the agent, as it moves through the environment.  \n",
    "\n",
    "Of course, as part of the project, you'll have to change the code so that the agent is able to use its experience to gradually choose better actions when interacting with the environment!"
   ]
  },
  {
   "cell_type": "code",
   "execution_count": 15,
   "metadata": {},
   "outputs": [],
   "source": [
    "#env_info = env.reset(train_mode=False)[brain_name]     # reset the environment    \n",
    "#states = env_info.vector_observations                  # get the current state (for each agent)\n",
    "#scores = np.zeros(num_agents)                          # initialize the score (for each agent)\n",
    "#while True:\n",
    "#    actions = np.random.randn(num_agents, action_size) # select an action (for each agent)\n",
    "#    actions = np.clip(actions, -1, 1)                  # all actions between -1 and 1\n",
    "#    env_info = env.step(actions)[brain_name]           # send all actions to tne environment\n",
    "#    next_states = env_info.vector_observations         # get next state (for each agent)\n",
    "#    rewards = env_info.rewards                         # get reward (for each agent)\n",
    "#    dones = env_info.local_done                        # see if episode finished\n",
    "#    scores += env_info.rewards                         # update the score (for each agent)\n",
    "#    states = next_states                               # roll over states to next time step\n",
    "#    if np.any(dones):                                  # exit loop if episode finished\n",
    "#        break\n",
    "#print('Total score (averaged over agents) this episode: {}'.format(np.mean(scores)))"
   ]
  },
  {
   "cell_type": "markdown",
   "metadata": {},
   "source": [
    "When finished, you can close the environment."
   ]
  },
  {
   "cell_type": "code",
   "execution_count": 6,
   "metadata": {},
   "outputs": [],
   "source": [
    "#env.close()"
   ]
  },
  {
   "cell_type": "markdown",
   "metadata": {},
   "source": [
    "### 4. It's Your Turn!\n",
    "\n",
    "Now it's your turn to train your own agent to solve the environment!  When training the environment, set `train_mode=True`, so that the line for resetting the environment looks like the following:\n",
    "```python\n",
    "env_info = env.reset(train_mode=True)[brain_name]\n",
    "```"
   ]
  },
  {
   "cell_type": "code",
   "execution_count": 7,
   "metadata": {},
   "outputs": [],
   "source": [
    "import torch\n",
    "from ddpg_agent import Agent\n",
    "from ddpg_result_visualization import plot_scores, format_episode_score\n",
    "from ddpg_gridsearch import DDPGGridsearch\n",
    "from ddpg_hyperparameters import DDPGHyperparameters\n",
    "from collections import deque\n",
    "from numpy import random"
   ]
  },
  {
   "cell_type": "code",
   "execution_count": 8,
   "metadata": {},
   "outputs": [
    {
     "name": "stdout",
     "output_type": "stream",
     "text": [
      "cuda\n"
     ]
    }
   ],
   "source": [
    "device = torch.device(\"cuda\" if torch.cuda.is_available() else \"cpu\")\n",
    "print(device)"
   ]
  },
  {
   "cell_type": "code",
   "execution_count": 9,
   "metadata": {},
   "outputs": [
    {
     "name": "stdout",
     "output_type": "stream",
     "text": [
      "Moving average size: 100\n",
      "Minimum moving average score: 30\n"
     ]
    }
   ],
   "source": [
    "moving_avg_size = 100\n",
    "min_moving_avg_score = 30\n",
    "print(f\"Moving average size: {moving_avg_size}\")\n",
    "print(f\"Minimum moving average score: {min_moving_avg_score}\")"
   ]
  },
  {
   "cell_type": "markdown",
   "metadata": {},
   "source": [
    "### 4.1 Train the Agent with DDPG"
   ]
  },
  {
   "cell_type": "code",
   "execution_count": 10,
   "metadata": {},
   "outputs": [],
   "source": [
    "def ddpg(agent, n_episodes=1000, max_t=1000, print_every=100, moving_avg_size=100, min_moving_avg_score=30,\n",
    "         min_skip_episodes = 70, skip_score = 2.0):\n",
    "    \n",
    "    scores = []\n",
    "    scores_window = deque(maxlen=moving_avg_size)\n",
    "    needed_episodes = 0\n",
    "    best_moving_avg_score = 0\n",
    "    solved = False\n",
    "    \n",
    "    for i_episode in range(1, n_episodes+1):  \n",
    "        env_info = env.reset(train_mode=True)[brain_name]\n",
    "        episode_score = 0                                       # initialize the score (for each agent)\n",
    "        agent.reset()                                           # reset the OUNoise object\n",
    "        state = env_info.vector_observations[0]             \n",
    "\n",
    "        for t in range(max_t):    \n",
    "            action =  agent.act(state)\n",
    "            env_info = env.step(action)[brain_name]             # send action to the environment\n",
    "            next_state = env_info.vector_observations[0]        # get next state\n",
    "            reward = env_info.rewards[0]                        # get reward\n",
    "            done = env_info.local_done[0]                       # see if episode finished\n",
    "            agent.step(state, action, reward, next_state, done)\n",
    "            \n",
    "            episode_score += reward                             # update the score\n",
    "            state = next_state                                  # roll over state to next time step\n",
    "            if done:\n",
    "                break\n",
    "\n",
    "        \n",
    "        scores.append(episode_score)           \n",
    "        scores_window.append(episode_score)\n",
    "        moving_avg_score = np.mean(scores_window)\n",
    "        \n",
    "        if moving_avg_score > best_moving_avg_score:\n",
    "            best_moving_avg_score = moving_avg_score\n",
    "        \n",
    "        if (i_episode == min_skip_episodes) and moving_avg_score < skip_score: # skip episode if score is too low\n",
    "            print(format_episode_score(i_episode, episode_score, moving_avg_score))\n",
    "            print(f\"Episodes skipped\\tEnvironment not solved!\")\n",
    "            break\n",
    "        \n",
    "        if i_episode % print_every == 0:\n",
    "            print(format_episode_score(i_episode, episode_score, moving_avg_score))\n",
    "        if (i_episode >= moving_avg_size) and (moving_avg_score >= min_moving_avg_score):\n",
    "            print(format_episode_score(i_episode, episode_score, moving_avg_score))\n",
    "            print(f\"Environment solved!\")\n",
    "            needed_episodes = i_episode - moving_avg_size\n",
    "            solved = True\n",
    "            break\n",
    "        if (i_episode+1 == n_episodes+1) and (moving_avg_score < min_moving_avg_score):\n",
    "            print(format_episode_score(i_episode, episode_score, moving_avg_score))\n",
    "            print(f\"Environment not solved!\")\n",
    "            \n",
    "    return scores, best_moving_avg_score, needed_episodes, solved"
   ]
  },
  {
   "cell_type": "code",
   "execution_count": 11,
   "metadata": {
    "scrolled": false
   },
   "outputs": [
    {
     "name": "stdout",
     "output_type": "stream",
     "text": [
      "DDPGGridsearch hyperparameters:\n",
      "lr_actor: [0.00015]\n",
      "lr critic: [0.00015]\n",
      "gamma: [0.99]\n",
      "buffer size: [100000]\n",
      "batch size: [128]\n",
      "weight decay: [0.0001]\n",
      "random seed: [4]\n",
      "fc1 units actor: [600]\n",
      "fc2 units actor: [400]\n",
      "fc3 units actor: [200]\n",
      "\n",
      "DQNHyperparameters: 1/1\n",
      "lr_actor: 0.00015\n",
      "lr_critic: 0.00015\n",
      "gamma: 0.99\n",
      "buffer_size: 100000\n",
      "batch_size: 128\n",
      "tau: 0.001\n",
      "weight_decay: 0.0001\n",
      "random_seed: 4\n",
      "fc1_units actor: 600\n",
      "fc2_units actor: 400\n",
      "fc3_units actor: 200\n",
      "fc1_units critic: 400\n",
      "fc2_units critic: 300\n",
      "Episode: 10\tEpisode average score: 0.44\tMoving average score: 0.99\n",
      "Episode: 20\tEpisode average score: 1.46\tMoving average score: 1.02\n",
      "Episode: 30\tEpisode average score: 0.06\tMoving average score: 1.08\n",
      "Episode: 40\tEpisode average score: 2.51\tMoving average score: 1.21\n",
      "Episode: 50\tEpisode average score: 2.29\tMoving average score: 1.42\n",
      "Episode: 60\tEpisode average score: 2.52\tMoving average score: 1.73\n",
      "Episode: 70\tEpisode average score: 6.82\tMoving average score: 2.01\n",
      "Episode: 80\tEpisode average score: 4.68\tMoving average score: 2.33\n",
      "Episode: 90\tEpisode average score: 3.38\tMoving average score: 2.52\n",
      "Episode: 100\tEpisode average score: 5.27\tMoving average score: 2.77\n",
      "Episode: 110\tEpisode average score: 9.00\tMoving average score: 3.21\n",
      "Episode: 120\tEpisode average score: 7.81\tMoving average score: 3.82\n",
      "Episode: 130\tEpisode average score: 6.43\tMoving average score: 4.38\n",
      "Episode: 140\tEpisode average score: 12.53\tMoving average score: 5.02\n",
      "Episode: 150\tEpisode average score: 13.77\tMoving average score: 5.82\n",
      "Episode: 160\tEpisode average score: 6.73\tMoving average score: 6.45\n",
      "Episode: 170\tEpisode average score: 9.24\tMoving average score: 7.24\n",
      "Episode: 180\tEpisode average score: 2.85\tMoving average score: 7.71\n",
      "Episode: 190\tEpisode average score: 13.19\tMoving average score: 8.57\n",
      "Episode: 200\tEpisode average score: 17.35\tMoving average score: 9.34\n",
      "Episode: 210\tEpisode average score: 8.05\tMoving average score: 10.03\n",
      "Episode: 220\tEpisode average score: 10.86\tMoving average score: 10.55\n",
      "Episode: 230\tEpisode average score: 11.69\tMoving average score: 10.90\n",
      "Episode: 240\tEpisode average score: 9.12\tMoving average score: 11.18\n",
      "Episode: 250\tEpisode average score: 13.37\tMoving average score: 11.35\n",
      "Episode: 260\tEpisode average score: 16.68\tMoving average score: 11.56\n",
      "Episode: 270\tEpisode average score: 13.32\tMoving average score: 11.46\n",
      "Episode: 280\tEpisode average score: 17.20\tMoving average score: 12.12\n",
      "Episode: 290\tEpisode average score: 10.01\tMoving average score: 12.46\n",
      "Episode: 300\tEpisode average score: 21.31\tMoving average score: 12.72\n",
      "Episode: 310\tEpisode average score: 14.74\tMoving average score: 13.16\n",
      "Episode: 320\tEpisode average score: 18.57\tMoving average score: 13.60\n",
      "Episode: 330\tEpisode average score: 12.81\tMoving average score: 14.28\n",
      "Episode: 340\tEpisode average score: 19.23\tMoving average score: 14.93\n",
      "Episode: 350\tEpisode average score: 8.84\tMoving average score: 15.24\n",
      "Episode: 360\tEpisode average score: 9.43\tMoving average score: 15.73\n",
      "Episode: 370\tEpisode average score: 19.24\tMoving average score: 16.21\n",
      "Episode: 380\tEpisode average score: 15.09\tMoving average score: 16.41\n",
      "Episode: 390\tEpisode average score: 11.55\tMoving average score: 16.33\n",
      "Episode: 400\tEpisode average score: 17.67\tMoving average score: 16.78\n",
      "Episode: 410\tEpisode average score: 24.00\tMoving average score: 17.11\n",
      "Episode: 420\tEpisode average score: 37.84\tMoving average score: 17.84\n",
      "Episode: 430\tEpisode average score: 29.40\tMoving average score: 18.16\n",
      "Episode: 440\tEpisode average score: 21.87\tMoving average score: 18.91\n",
      "Episode: 450\tEpisode average score: 17.64\tMoving average score: 19.67\n",
      "Episode: 460\tEpisode average score: 29.57\tMoving average score: 20.73\n",
      "Episode: 470\tEpisode average score: 15.94\tMoving average score: 21.74\n",
      "Episode: 480\tEpisode average score: 28.00\tMoving average score: 22.18\n",
      "Episode: 490\tEpisode average score: 27.70\tMoving average score: 23.47\n",
      "Episode: 500\tEpisode average score: 14.39\tMoving average score: 24.05\n",
      "Episode: 510\tEpisode average score: 34.09\tMoving average score: 25.16\n",
      "Episode: 520\tEpisode average score: 18.47\tMoving average score: 25.63\n",
      "Episode: 530\tEpisode average score: 37.01\tMoving average score: 26.72\n",
      "Episode: 540\tEpisode average score: 36.32\tMoving average score: 27.39\n",
      "Episode: 550\tEpisode average score: 32.60\tMoving average score: 28.16\n",
      "Episode: 560\tEpisode average score: 33.60\tMoving average score: 28.49\n",
      "Episode: 570\tEpisode average score: 23.62\tMoving average score: 29.06\n",
      "Episode: 580\tEpisode average score: 31.13\tMoving average score: 29.76\n",
      "Episode: 590\tEpisode average score: 31.08\tMoving average score: 29.47\n",
      "Episode: 600\tEpisode average score: 27.75\tMoving average score: 30.01\n",
      "Episode: 600\tEpisode average score: 27.75\tMoving average score: 30.01\n",
      "Environment solved!\n",
      "New best moving average score: 30.01\n",
      "Save checkpoint checkpoint_actor_30.pth\n",
      "Save checkpoint checkpoint_critic_30.pth\n",
      "\n",
      "Best DDPGHyperparameters:\n",
      "lr_actor: 0.00015\n",
      "lr_critic: 0.00015\n",
      "gamma: 0.99\n",
      "buffer_size: 100000\n",
      "batch_size: 128\n",
      "tau: 0.001\n",
      "weight_decay: 0.0001\n",
      "random_seed: 4\n",
      "fc1_units actor: 600\n",
      "fc2_units actor: 400\n",
      "fc3_units actor: 200\n",
      "fc1_units critic: 400\n",
      "fc2_units critic: 300\n",
      "Solved in 500 episodes.\n"
     ]
    }
   ],
   "source": [
    "gridsearch = DDPGGridsearch()\n",
    "hyperparameters = gridsearch.create_gridsearch_params() #create a grid search hyperparameters list\n",
    "\n",
    "print(\"DDPGGridsearch hyperparameters:\")\n",
    "print(gridsearch)\n",
    "print()\n",
    "params_len = len(hyperparameters)\n",
    "\n",
    "n_episodes = 1000\n",
    "print_every = 10\n",
    "max_t = 1000\n",
    "best_scores = []\n",
    "best_avg_score = 0\n",
    "best_needed_episodes = 0\n",
    "best_params = None\n",
    "moving_avg_scores = []\n",
    "\n",
    "for idx, params in enumerate(hyperparameters): #for every DDPQHyperparameters object \n",
    "    print(f\"DQNHyperparameters: {idx+1}/{params_len}\")\n",
    "    print(params)\n",
    "    agent = Agent(device, params, state_size, action_size)\n",
    "    \n",
    "    scores, moving_avg_score, needed_episodes, solved = ddpg(agent=agent, n_episodes=n_episodes, \n",
    "                                                     max_t=max_t, print_every=print_every, \n",
    "                                                     moving_avg_size=moving_avg_size, \n",
    "                                                     min_moving_avg_score=min_moving_avg_score)\n",
    "\n",
    "    if (moving_avg_score >= best_avg_score): # find the best moving average score\n",
    "        best_scores = scores\n",
    "        best_needed_episodes = needed_episodes\n",
    "        best_avg_score = moving_avg_score\n",
    "        best_params = params\n",
    "        score_v = int(best_avg_score)\n",
    "        print(f\"New best moving average score: {best_avg_score:.2f}\")\n",
    "        actor_cp = f\"checkpoint_actor_{score_v}.pth\"\n",
    "        critic_cp = f\"checkpoint_critic_{score_v}.pth\"\n",
    "        print(f\"Save checkpoint {actor_cp}\")\n",
    "        print(f\"Save checkpoint {critic_cp}\")\n",
    "        torch.save(agent.actor_local.state_dict(), actor_cp)   # save the best model weigths\n",
    "        torch.save(agent.critic_local.state_dict(), critic_cp) # save the best model weigths\n",
    "        \n",
    "    if solved:\n",
    "        break\n",
    "        \n",
    "    print()\n",
    "    \n",
    "print()\n",
    "print(\"Best DDPGHyperparameters:\")\n",
    "print(best_params)\n",
    "print(f\"Solved in {best_needed_episodes} episodes.\")\n"
   ]
  },
  {
   "cell_type": "markdown",
   "metadata": {},
   "source": [
    "### 4.2 Solution"
   ]
  },
  {
   "cell_type": "code",
   "execution_count": 12,
   "metadata": {},
   "outputs": [
    {
     "data": {
      "image/png": "[encoded data removed]",
      "text/plain": [
       "<Figure size 432x288 with 1 Axes>"
      ]
     },
     "metadata": {
      "needs_background": "light"
     },
     "output_type": "display_data"
    }
   ],
   "source": [
    "plot_scores(best_scores)"
   ]
  },
  {
   "cell_type": "markdown",
   "metadata": {},
   "source": [
    "The environment was solved with the DDPG algorithm in 500 episodes.\n",
    "\n",
    "<strong>Model Architecture:</strong><br>\n",
    "2 Actor Networks with 4 linear layers:<br>\n",
    "Linear layer 1: 33 x 600<br>\n",
    "Linear layer 2: 600 x 400<br>\n",
    "Linear layer 3: 400 x 200<br>\n",
    "Linear layer 4: 200 x 4<br>\n",
    "\n",
    "2 Critic Networks with 3 linear layers:<br>\n",
    "Linear layer 1: 33 x 400<br>\n",
    "Linear layer 2: (400+4) x 300<br>\n",
    "Linear layer 3: 300 x 1<br>\n",
    "\n",
    "<strong>Hyperparameters:</strong><br>\n",
    "Learning rate actor: 0.00015<br>\n",
    "Learning rate critic: 0.00015<br>\n",
    "Gamma: 0.99<br>\n",
    "Buffer size: 100000<br>\n",
    "Batch size: 128<br>\n",
    "Tau: 0.001<br>\n",
    "Weight decay: 0.0001<br>"
   ]
  },
  {
   "cell_type": "markdown",
   "metadata": {},
   "source": [
    "<strong>Improvement</strong><br>\n",
    "The model performance could possibly improved through batch normalization or dropout layers."
   ]
  },
  {
   "cell_type": "markdown",
   "metadata": {},
   "source": [
    "### 5. Close the environment"
   ]
  },
  {
   "cell_type": "code",
   "execution_count": 14,
   "metadata": {},
   "outputs": [],
   "source": [
    "env.close()"
   ]
  }
 ],
 "metadata": {
  "kernelspec": {
   "display_name": "Python 3",
   "language": "python",
   "name": "python3"
  },
  "language_info": {
   "codemirror_mode": {
    "name": "ipython",
    "version": 3
   },
   "file_extension": ".py",
   "mimetype": "text/x-python",
   "name": "python",
   "nbconvert_exporter": "python",
   "pygments_lexer": "ipython3",
   "version": "3.6.13"
  }
 },
 "nbformat": 4,
 "nbformat_minor": 2
}
